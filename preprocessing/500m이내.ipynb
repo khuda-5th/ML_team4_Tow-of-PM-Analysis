{
  "nbformat": 4,
  "nbformat_minor": 0,
  "metadata": {
    "colab": {
      "provenance": []
    },
    "kernelspec": {
      "name": "python3",
      "display_name": "Python 3"
    },
    "language_info": {
      "name": "python"
    }
  },
  "cells": [
    {
      "cell_type": "code",
      "execution_count": null,
      "metadata": {
        "colab": {
          "base_uri": "https://localhost:8080/"
        },
        "id": "z4PQ6Qej2P-4",
        "outputId": "8f7d701b-1391-4790-d757-e8eef345238c"
      },
      "outputs": [
        {
          "output_type": "stream",
          "name": "stdout",
          "text": [
            "                       주소   횟수         위도          경도  distance_0  distance_1  \\\n",
            "0    서울특별시 마포구 동교동 192-44  762  37.557142  126.926190    3.029450    2.781155   \n",
            "1       서울특별시 마포구 서교동 415  678  37.555071  126.923825    3.263754    3.019033   \n",
            "2      서울특별시 서초구 서초동 1390  377  37.488180  127.017510    9.389948    9.545404   \n",
            "3  서울특별시 성동구 성수동2가 275-24  355  37.540480  127.056010    8.686394    8.935708   \n",
            "4      서울특별시 서초구 서초동 1327  329  37.488180  127.017510    9.389948    9.545404   \n",
            "\n",
            "   distance_2  distance_3  distance_4  distance_5  ...  distance_1081  \\\n",
            "0    3.197596   19.265666    7.987815    7.954672  ...      19.041114   \n",
            "1    3.422342   19.448195    7.706432    7.682215  ...      19.092615   \n",
            "2    9.184843   12.358574   16.044173   16.327832  ...       8.356182   \n",
            "3    8.483635    7.702033   18.831001   18.954866  ...       9.662902   \n",
            "4    9.184843   12.358574   16.044173   16.327832  ...       8.356182   \n",
            "\n",
            "   distance_1082  distance_1083  distance_1084  distance_1085  distance_1086  \\\n",
            "0       5.197739      16.943182       5.033175      15.249267      14.625097   \n",
            "1       5.501947      17.227171       5.343569      15.245054      14.656022   \n",
            "2      13.326455      16.285115      12.515239       4.129011       3.793268   \n",
            "3      10.878608       9.566211      10.025751       8.663511       6.969899   \n",
            "4      13.326455      16.285115      12.515239       4.129011       3.793268   \n",
            "\n",
            "   distance_1087  distance_1088  distance_1089  within_500m_count  \n",
            "0      17.075472      19.635859      18.070568                  3  \n",
            "1      17.048310      19.705212      18.101214                  2  \n",
            "2       6.037059       9.233262       7.138531                  1  \n",
            "3      10.782613       9.675733       9.507962                  2  \n",
            "4       6.037059       9.233262       7.138531                  1  \n",
            "\n",
            "[5 rows x 1095 columns]\n"
          ]
        }
      ],
      "source": [
        "import pandas as pd\n",
        "\n",
        "# 견인_상권_거리.csv 파일을 읽어옵니다.\n",
        "data = pd.read_csv('/견인_상권_거리.csv', encoding='utf-8')\n",
        "\n",
        "# 새로운 컬럼을 추가할 리스트 초기화\n",
        "within_500m_counts = []\n",
        "\n",
        "# 각 주소에 대해 500미터 이내에 있는 상권의 개수 계산\n",
        "for i, row in data.iterrows():\n",
        "    within_500m_count = 0\n",
        "    for j in range(1090):\n",
        "        if row[f'distance_{j}'] <= 0.5:  # 500미터 이내에 있는 경우\n",
        "            within_500m_count += 1\n",
        "    within_500m_counts.append(within_500m_count)\n",
        "\n",
        "# 새로운 컬럼 추가\n",
        "data['within_500m_count'] = within_500m_counts\n",
        "\n",
        "# 결과 확인\n",
        "print(data.head())\n"
      ]
    },
    {
      "cell_type": "code",
      "source": [
        "data.to_csv('500m이내.csv', index=False)"
      ],
      "metadata": {
        "id": "JqVETMN57dRO"
      },
      "execution_count": null,
      "outputs": []
    },
    {
      "cell_type": "code",
      "source": [],
      "metadata": {
        "id": "nEv3_JibfO7D"
      },
      "execution_count": null,
      "outputs": []
    }
  ]
}